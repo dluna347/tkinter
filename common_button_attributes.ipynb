{
 "cells": [
  {
   "cell_type": "markdown",
   "metadata": {},
   "source": [
    "\n",
    "\n",
    "## Most commonly used attributes of the Button widget in Tkinter:\n",
    "\n",
    "1. `text`: Specifies the text displayed on the button.\n",
    "   Example: `button = tk.Button(window, text=\"Click Me\")`\n",
    "\n",
    "2. `command`: Specifies the function or method to be called when the button is clicked.\n",
    "   Example: `button = tk.Button(window, text=\"Click Me\", command=button_clicked)`\n",
    "\n",
    "3. `fg` (foreground): Specifies the color of the button text.\n",
    "   Example: `button = tk.Button(window, text=\"Click Me\", fg=\"white\")`\n",
    "\n",
    "4. `bg` (background): Specifies the background color of the button.\n",
    "   Example: `button = tk.Button(window, text=\"Click Me\", bg=\"blue\")`\n",
    "\n",
    "5. `font`: Specifies the font style and size of the button text.\n",
    "   Example: `button = tk.Button(window, text=\"Click Me\", font=(\"Arial\", 16))`\n",
    "\n",
    "6. `width` and `height`: Specify the width and height of the button in characters (not pixels).\n",
    "   Example: `button = tk.Button(window, text=\"Click Me\", width=10, height=2)`\n",
    "\n",
    "7. `padx` and `pady`: Specify the padding (in pixels) around the button text horizontally and vertically.\n",
    "   Example: `button = tk.Button(window, text=\"Click Me\", padx=10, pady=5)`\n",
    "\n",
    "8. `state`: Specifies the state of the button, such as `\"normal\"` (default), `\"disabled\"`, or `\"active\"`.\n",
    "   Example: `button = tk.Button(window, text=\"Click Me\", state=\"disabled\")`\n",
    "\n",
    "9. `image`: Specifies an image to be displayed on the button (instead of or along with text).\n",
    "   Example: `button = tk.Button(window, image=photo)`\n",
    "\n",
    "10. `justify`: Specifies the alignment of the button text, such as `\"left\"`, `\"center\"` (default), or `\"right\"`.\n",
    "    Example: `button = tk.Button(window, text=\"Click Me\", justify=\"left\")`\n",
    "\n",
    "11. `relief`: Specifies the border style of the button, such as `\"flat\"`, `\"raised\"`, `\"sunken\"`, `\"groove\"`, or `\"ridge\"`.\n",
    "    Example: `button = tk.Button(window, text=\"Click Me\", relief=\"raised\")`\n",
    "\n",
    "12. `activebackground` and `activeforeground`: Specify the background and foreground colors of the button when it is being clicked.\n",
    "    Example: `button = tk.Button(window, text=\"Click Me\", activebackground=\"red\", activeforeground=\"white\")`\n"
   ]
  }
 ],
 "metadata": {
  "language_info": {
   "name": "python"
  }
 },
 "nbformat": 4,
 "nbformat_minor": 2
}
